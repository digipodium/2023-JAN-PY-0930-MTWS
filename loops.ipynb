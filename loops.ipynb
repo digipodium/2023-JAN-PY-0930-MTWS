{
 "cells": [
  {
   "cell_type": "code",
   "execution_count": 1,
   "metadata": {},
   "outputs": [
    {
     "name": "stdout",
     "output_type": "stream",
     "text": [
      "23\n"
     ]
    }
   ],
   "source": [
    "name = \"Vijay Deenanath Chauhan\"\n",
    "print(len(name))"
   ]
  },
  {
   "cell_type": "code",
   "execution_count": null,
   "metadata": {},
   "outputs": [],
   "source": [
    "for char in name:\n",
    "    print(char)"
   ]
  },
  {
   "cell_type": "code",
   "execution_count": 2,
   "metadata": {},
   "outputs": [
    {
     "name": "stdout",
     "output_type": "stream",
     "text": [
      "V\n",
      "j\n",
      "y\n",
      " \n",
      "D\n",
      "n\n",
      "n\n",
      "t\n",
      "h\n",
      " \n",
      "C\n",
      "h\n",
      "h\n",
      "n\n"
     ]
    }
   ],
   "source": [
    "for i in name:\n",
    "    if i not in 'aeiouAEIOU':\n",
    "        print(i)"
   ]
  },
  {
   "cell_type": "code",
   "execution_count": 1,
   "metadata": {},
   "outputs": [
    {
     "name": "stdout",
     "output_type": "stream",
     "text": [
      "red\n",
      "green\n",
      "blue\n",
      "black\n"
     ]
    }
   ],
   "source": [
    "colors = ['red','green','blue','black']\n",
    "for color in colors:\n",
    "    print(color)"
   ]
  },
  {
   "cell_type": "code",
   "execution_count": 13,
   "metadata": {},
   "outputs": [
    {
     "name": "stdout",
     "output_type": "stream",
     "text": [
      "red has 3 chars \n",
      "green has 5 chars \n",
      "blue has 4 chars \n",
      "black has 5 chars \n"
     ]
    }
   ],
   "source": [
    "for c in colors:\n",
    "    print(f'{c} has {len(c)} chars ')"
   ]
  },
  {
   "attachments": {},
   "cell_type": "markdown",
   "metadata": {},
   "source": [
    "# task 1\n",
    "> wap to print if the len of a string is even or odd, from a list of strings"
   ]
  },
  {
   "attachments": {},
   "cell_type": "markdown",
   "metadata": {},
   "source": [
    "14 - feb - 2023\n",
    "\n",
    "`range()` function\n",
    "\n",
    "- `range(100)` - 0 to 99\n",
    "- `range(10, 50)` - 10 to 49\n",
    "- `range(1, 100, 5)` - 1 to 99, step 5\n",
    "- `range(100, 0, -1)` - 100 to 1, step -1\n",
    "- `range(0, 100, 2)` - 0 to 99, step 2 (even numbers)\n",
    "- `range(1, 100, 2)` - 1 to 99, step 2 (odd numbers)"
   ]
  },
  {
   "attachments": {},
   "cell_type": "markdown",
   "metadata": {},
   "source": [
    "more for loop \n",
    "- *enumerate( )*\n",
    "- *zip( )*"
   ]
  },
  {
   "cell_type": "code",
   "execution_count": 2,
   "metadata": {},
   "outputs": [
    {
     "name": "stdout",
     "output_type": "stream",
     "text": [
      "rose\n",
      "jasmine\n",
      "lotus\n",
      "lily\n"
     ]
    }
   ],
   "source": [
    "flowers = ['rose','jasmine','lotus','lily']\n",
    "for flower in flowers:\n",
    "    print(flower)"
   ]
  },
  {
   "cell_type": "code",
   "execution_count": 5,
   "metadata": {},
   "outputs": [
    {
     "name": "stdout",
     "output_type": "stream",
     "text": [
      "0 rose\n",
      "1 jasmine\n",
      "2 lotus\n",
      "3 lily\n"
     ]
    }
   ],
   "source": [
    "for i, flower in enumerate(flowers):\n",
    "    print(i, flower)"
   ]
  },
  {
   "cell_type": "code",
   "execution_count": 8,
   "metadata": {},
   "outputs": [
    {
     "name": "stdout",
     "output_type": "stream",
     "text": [
      "(1 + 3)^2 = 16\n",
      "(2 + 5)^2 = 49\n",
      "(3 + 6)^2 = 81\n",
      "(4 + 7)^2 = 121\n",
      "(5 + 8)^2 = 169\n",
      "(6 + 2)^2 = 64\n"
     ]
    }
   ],
   "source": [
    "x = [1,2,3,4,5,6]\n",
    "y = [3,5,6,7,8,2]\n",
    "# use the formula (a + b)**2 for each pair of values from both list\n",
    "for i, j in zip(x, y):\n",
    "    print(f'({i} + {j})**2 = {(i+j)**2}')"
   ]
  },
  {
   "attachments": {},
   "cell_type": "markdown",
   "metadata": {},
   "source": [
    "## `break` and `continue`"
   ]
  },
  {
   "cell_type": "code",
   "execution_count": 13,
   "metadata": {},
   "outputs": [
    {
     "name": "stdout",
     "output_type": "stream",
     "text": [
      "2\n",
      "3\n",
      "4\n",
      "6\n",
      "6\n",
      "1\n",
      "2\n",
      "3\n",
      "4\n",
      "5\n",
      "6\n",
      "7\n",
      "7\n",
      "3\n",
      "2\n",
      "1\n",
      "1\n"
     ]
    }
   ],
   "source": [
    "a = [2,3,4,0,0,0,6,6,1,0,2,3,4,0,0,5,6,7,7,3,0,0,0,2,1,1]\n",
    "for i in a:\n",
    "    if i == 0: continue\n",
    "    print(i)"
   ]
  },
  {
   "cell_type": "code",
   "execution_count": 14,
   "metadata": {},
   "outputs": [
    {
     "name": "stdout",
     "output_type": "stream",
     "text": [
      "Sam\n",
      "Sara\n",
      "Alexa\n"
     ]
    }
   ],
   "source": [
    "names = ['Sam','Sara','Alexa','','Alex','John','','Jill','Jack']\n",
    "for name in names:\n",
    "    if len(name) == 0: break\n",
    "    print(name)"
   ]
  },
  {
   "cell_type": "code",
   "execution_count": 15,
   "metadata": {},
   "outputs": [
    {
     "name": "stdout",
     "output_type": "stream",
     "text": [
      "Sam\n",
      "Sara\n",
      "Alexa\n",
      "Error: Empty name found\n"
     ]
    }
   ],
   "source": [
    "for name in names:\n",
    "    if len(name) == 0: \n",
    "        print('Error: Empty name found')\n",
    "        break\n",
    "    print(name)"
   ]
  },
  {
   "cell_type": "code",
   "execution_count": null,
   "metadata": {},
   "outputs": [],
   "source": []
  }
 ],
 "metadata": {
  "kernelspec": {
   "display_name": "base",
   "language": "python",
   "name": "python3"
  },
  "language_info": {
   "codemirror_mode": {
    "name": "ipython",
    "version": 3
   },
   "file_extension": ".py",
   "mimetype": "text/x-python",
   "name": "python",
   "nbconvert_exporter": "python",
   "pygments_lexer": "ipython3",
   "version": "3.10.9"
  },
  "orig_nbformat": 4,
  "vscode": {
   "interpreter": {
    "hash": "8befaed7f752a58a740e5f08c55a1efd8fcda412d7a2f1c4d828330769dea609"
   }
  }
 },
 "nbformat": 4,
 "nbformat_minor": 2
}
