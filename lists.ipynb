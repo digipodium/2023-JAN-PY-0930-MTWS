{
 "cells": [
  {
   "cell_type": "code",
   "execution_count": 2,
   "metadata": {},
   "outputs": [],
   "source": [
    "a = []  # empty list\n",
    "b = [1,2,3,5,67,2] # list of integers\n",
    "c = ['apple', 'banana', 'orange'] # list of strings\n",
    "d= [[1,2,3], [4,5,6], [7,8,9]] # list of lists (nested list)\n",
    "e = ['apple', 20, False, 'mango', 50.5, True]"
   ]
  },
  {
   "cell_type": "code",
   "execution_count": 3,
   "metadata": {},
   "outputs": [
    {
     "name": "stdout",
     "output_type": "stream",
     "text": [
      "['t', 'h', 'e', ' ', 'l', 'o', 's', 't', ' ', 'm', 'e', 't', 'a', 'l']\n"
     ]
    }
   ],
   "source": [
    "word = 'the lost metal'\n",
    "chars = list(word)\n",
    "print(chars)"
   ]
  },
  {
   "cell_type": "code",
   "execution_count": 4,
   "metadata": {},
   "outputs": [
    {
     "name": "stdout",
     "output_type": "stream",
     "text": [
      "[1, 2, 3, 1, 2, 3, 1, 2, 3, 1, 2, 3, 1, 2, 3]\n"
     ]
    }
   ],
   "source": [
    "f = [1,2,3] * 5 # repeat list 5 times\n",
    "print(f)"
   ]
  },
  {
   "cell_type": "code",
   "execution_count": 8,
   "metadata": {},
   "outputs": [],
   "source": [
    "name = input(\"enter a name:\")\n",
    "a.append(name)"
   ]
  },
  {
   "cell_type": "code",
   "execution_count": 1,
   "metadata": {},
   "outputs": [
    {
     "data": {
      "text/plain": [
       "15"
      ]
     },
     "execution_count": 1,
     "metadata": {},
     "output_type": "execute_result"
    }
   ],
   "source": [
    "movies = ['Polar','Action Hero','Glass Onion', 'Mission Majnu',\n",
    "          'Enola Holmes', 'Mission Impossible', 'The Old Guard',\n",
    "          'Spiderman','RRR', 'Thunivu','Broken Hearts','Interstellar',\n",
    "          'The Dark Knight', 'The Dark Knight Rises', 'The Prestige',\n",
    "          ]\n",
    "len(movies)"
   ]
  },
  {
   "cell_type": "code",
   "execution_count": 13,
   "metadata": {},
   "outputs": [
    {
     "name": "stdout",
     "output_type": "stream",
     "text": [
      "The Old Guard\n",
      "The Prestige\n"
     ]
    }
   ],
   "source": [
    "print(movies[6])\n",
    "print(movies[-1])"
   ]
  },
  {
   "cell_type": "code",
   "execution_count": 15,
   "metadata": {},
   "outputs": [
    {
     "name": "stdout",
     "output_type": "stream",
     "text": [
      "['Polar', 'Action Hero', 'Glass Onion', 'Mission Majnu', 'Babubali', 'Mission Impossible', 'The Old Guard', 'Spiderman', 'RRR', 'Thunivu', 'Broken Hearts', 'Interstellar', 'The Dark Knight', 'The Dark Knight Rises', 'The Prestige']\n"
     ]
    }
   ],
   "source": [
    "movies[4] = 'Babubali'\n",
    "print(movies)"
   ]
  },
  {
   "cell_type": "code",
   "execution_count": 16,
   "metadata": {},
   "outputs": [
    {
     "name": "stdout",
     "output_type": "stream",
     "text": [
      "['Polar', 'Action Hero', 'Glass Onion', 'Mission Majnu', 'Babubali']\n",
      "['Broken Hearts', 'Interstellar', 'The Dark Knight', 'The Dark Knight Rises', 'The Prestige']\n",
      "['Mission Majnu', 'Babubali', 'Mission Impossible', 'The Old Guard', 'Spiderman', 'RRR', 'Thunivu', 'Broken Hearts', 'Interstellar']\n",
      "['The Prestige', 'The Dark Knight Rises', 'The Dark Knight', 'Interstellar', 'Broken Hearts', 'Thunivu', 'RRR', 'Spiderman', 'The Old Guard', 'Mission Impossible', 'Babubali', 'Mission Majnu', 'Glass Onion', 'Action Hero', 'Polar']\n",
      "['Polar', 'Glass Onion', 'Babubali', 'The Old Guard', 'RRR', 'Broken Hearts', 'The Dark Knight', 'The Prestige']\n",
      "['Polar', 'Mission Majnu', 'The Old Guard', 'Thunivu', 'The Dark Knight']\n"
     ]
    }
   ],
   "source": [
    "# first 5 movies\n",
    "print(movies[:5])\n",
    "# last 5 movies \n",
    "print(movies[-5:])\n",
    "# all movies except first 3 and last 3\n",
    "print(movies[3:-3])\n",
    "# all movies but in reverse order\n",
    "print(movies[::-1])\n",
    "# only even indexed movies\n",
    "print(movies[::2])\n",
    "# every 3rd index movie\n",
    "print(movies[::3])"
   ]
  },
  {
   "attachments": {},
   "cell_type": "markdown",
   "metadata": {},
   "source": [
    "methods"
   ]
  },
  {
   "cell_type": "code",
   "execution_count": 3,
   "metadata": {},
   "outputs": [],
   "source": [
    "movies.append('The Matrix')"
   ]
  },
  {
   "cell_type": "code",
   "execution_count": 5,
   "metadata": {},
   "outputs": [
    {
     "name": "stdout",
     "output_type": "stream",
     "text": [
      "['Polar', 'Action Hero', 'Glass Onion', 'Mission Majnu', 'Enola Holmes', 'Mission Impossible', 'The Old Guard', 'Spiderman', 'RRR', 'Thunivu', 'Broken Hearts', 'Interstellar', 'The Dark Knight', 'The Dark Knight Rises', 'The Prestige', 'The Matrix']\n"
     ]
    }
   ],
   "source": [
    "print(movies)"
   ]
  },
  {
   "cell_type": "code",
   "execution_count": 6,
   "metadata": {},
   "outputs": [],
   "source": [
    "for i in range(3):\n",
    "    name = input(\"enter a name:\")\n",
    "    movies.append(name)"
   ]
  },
  {
   "cell_type": "code",
   "execution_count": 9,
   "metadata": {},
   "outputs": [
    {
     "name": "stdout",
     "output_type": "stream",
     "text": [
      "['Polar', 'Action Hero', 'Glass Onion', 'Mission Majnu', 'Enola Holmes', 'Mission Impossible', 'The Old Guard', 'Spiderman', 'RRR', 'Thunivu', 'Broken Hearts', 'Interstellar', 'The Dark Knight', 'The Dark Knight Rises', 'The Prestige', 'The Matrix', 'Krish', 'Stardust', 'Jannat']\n"
     ]
    }
   ],
   "source": [
    "print(movies)"
   ]
  },
  {
   "cell_type": "code",
   "execution_count": 13,
   "metadata": {},
   "outputs": [
    {
     "data": {
      "text/plain": [
       "17"
      ]
     },
     "execution_count": 13,
     "metadata": {},
     "output_type": "execute_result"
    }
   ],
   "source": [
    "movies.index('Stardust')"
   ]
  },
  {
   "cell_type": "code",
   "execution_count": 14,
   "metadata": {},
   "outputs": [
    {
     "name": "stdout",
     "output_type": "stream",
     "text": [
      "['Polar', 'Action Hero', 'Glass Onion', 'Mission Majnu', 'Enola Holmes', 'Mission Impossible', 'The Old Guard', 'Spiderman', 'RRR', 'Thunivu', 'Broken Hearts', 'Interstellar', 'The Dark Knight', 'The Dark Knight Rises', 'The Prestige', 'The Matrix', 'Krish', 'Krish 3', 'Stardust', 'Jannat']\n"
     ]
    }
   ],
   "source": [
    "movies.insert(17,'Krish 3')\n",
    "print(movies)"
   ]
  },
  {
   "cell_type": "code",
   "execution_count": 16,
   "metadata": {},
   "outputs": [
    {
     "name": "stdout",
     "output_type": "stream",
     "text": [
      "['Polar', 'Action Hero', 'Glass Onion', 'Mission Majnu', 'Enola Holmes', 'Mission Impossible', 'The Old Guard', 'Spiderman', 'RRR', 'Thunivu', 'Broken Hearts', 'Interstellar', 'The Dark Knight', 'The Dark Knight Rises', 'The Prestige', 'Matrix: Reloaded', 'Krish', 'Krish 3', 'Stardust', 'Jannat']\n"
     ]
    }
   ],
   "source": [
    "movies[-5]='Matrix: Reloaded'\n",
    "print(movies)"
   ]
  },
  {
   "cell_type": "code",
   "execution_count": 18,
   "metadata": {},
   "outputs": [],
   "source": [
    "movies.remove('Krish')"
   ]
  },
  {
   "cell_type": "code",
   "execution_count": 19,
   "metadata": {},
   "outputs": [
    {
     "data": {
      "text/plain": [
       "'Mission Majnu'"
      ]
     },
     "execution_count": 19,
     "metadata": {},
     "output_type": "execute_result"
    }
   ],
   "source": [
    "movies.pop(3) # remove movie at index 3"
   ]
  },
  {
   "cell_type": "code",
   "execution_count": 20,
   "metadata": {},
   "outputs": [
    {
     "name": "stdout",
     "output_type": "stream",
     "text": [
      "The Old Guard\n"
     ]
    }
   ],
   "source": [
    "movie_removed = movies.pop(5)\n",
    "print(movie_removed)"
   ]
  },
  {
   "cell_type": "code",
   "execution_count": 21,
   "metadata": {},
   "outputs": [],
   "source": [
    "x = [1,2,3]\n",
    "y = [4,5,6]"
   ]
  },
  {
   "cell_type": "code",
   "execution_count": 22,
   "metadata": {},
   "outputs": [
    {
     "data": {
      "text/plain": [
       "[1, 2, 3, 4, 5, 6]"
      ]
     },
     "execution_count": 22,
     "metadata": {},
     "output_type": "execute_result"
    }
   ],
   "source": [
    "x + y"
   ]
  },
  {
   "cell_type": "code",
   "execution_count": 23,
   "metadata": {},
   "outputs": [
    {
     "name": "stdout",
     "output_type": "stream",
     "text": [
      "[1, 2, 3, 4, 5, 6]\n"
     ]
    }
   ],
   "source": [
    "x.extend(y)\n",
    "print(x)"
   ]
  },
  {
   "cell_type": "code",
   "execution_count": 28,
   "metadata": {},
   "outputs": [
    {
     "name": "stdout",
     "output_type": "stream",
     "text": [
      "['Jannat', 'Stardust', 'Krish 3', 'Matrix: Reloaded', 'The Prestige', 'The Dark Knight Rises', 'The Dark Knight', 'Interstellar', 'Broken Hearts', 'Thunivu', 'RRR', 'Spiderman', 'Mission Impossible', 'Enola Holmes', 'Glass Onion', 'Action Hero', 'Polar']\n"
     ]
    }
   ],
   "source": [
    "movies.reverse()\n",
    "print(movies)"
   ]
  },
  {
   "cell_type": "code",
   "execution_count": 29,
   "metadata": {},
   "outputs": [
    {
     "name": "stdout",
     "output_type": "stream",
     "text": [
      "['Action Hero', 'Broken Hearts', 'Enola Holmes', 'Glass Onion', 'Interstellar', 'Jannat', 'Krish 3', 'Matrix: Reloaded', 'Mission Impossible', 'Polar', 'RRR', 'Spiderman', 'Stardust', 'The Dark Knight', 'The Dark Knight Rises', 'The Prestige', 'Thunivu']\n"
     ]
    }
   ],
   "source": [
    "movies.sort()\n",
    "print(movies)"
   ]
  },
  {
   "cell_type": "code",
   "execution_count": 31,
   "metadata": {},
   "outputs": [
    {
     "name": "stdout",
     "output_type": "stream",
     "text": [
      "['Thunivu', 'The Prestige', 'The Dark Knight Rises', 'The Dark Knight', 'Stardust', 'Spiderman', 'RRR', 'Polar', 'Mission Impossible', 'Matrix: Reloaded', 'Krish 3', 'Jannat', 'Interstellar', 'Glass Onion', 'Enola Holmes', 'Broken Hearts', 'Action Hero']\n"
     ]
    }
   ],
   "source": [
    "movies.sort(reverse=True)\n",
    "print(movies)"
   ]
  },
  {
   "cell_type": "code",
   "execution_count": 33,
   "metadata": {},
   "outputs": [
    {
     "data": {
      "text/plain": [
       "1"
      ]
     },
     "execution_count": 33,
     "metadata": {},
     "output_type": "execute_result"
    }
   ],
   "source": [
    "movies.count('The Prestige')"
   ]
  },
  {
   "cell_type": "code",
   "execution_count": 34,
   "metadata": {},
   "outputs": [
    {
     "name": "stdout",
     "output_type": "stream",
     "text": [
      "4\n",
      "4\n",
      "1\n"
     ]
    }
   ],
   "source": [
    "x = [1,2,1,2,1,2,1,2,3]\n",
    "print(x.count(1))\n",
    "print(x.count(2))\n",
    "print(x.count(3))"
   ]
  },
  {
   "cell_type": "code",
   "execution_count": 36,
   "metadata": {},
   "outputs": [
    {
     "name": "stdout",
     "output_type": "stream",
     "text": [
      "[1, 2, 1, 2, 1, 2, 1, 2, 3]\n"
     ]
    }
   ],
   "source": [
    "z = x.copy()\n",
    "print(z)"
   ]
  },
  {
   "cell_type": "code",
   "execution_count": 37,
   "metadata": {},
   "outputs": [],
   "source": [
    "a = 10\n",
    "b = a # this is ok\n",
    "x = [2,31,3,123,123,1,3] # list is data structure\n",
    "y = x.copy() # this is ok"
   ]
  },
  {
   "cell_type": "code",
   "execution_count": null,
   "metadata": {},
   "outputs": [],
   "source": []
  }
 ],
 "metadata": {
  "kernelspec": {
   "display_name": "base",
   "language": "python",
   "name": "python3"
  },
  "language_info": {
   "codemirror_mode": {
    "name": "ipython",
    "version": 3
   },
   "file_extension": ".py",
   "mimetype": "text/x-python",
   "name": "python",
   "nbconvert_exporter": "python",
   "pygments_lexer": "ipython3",
   "version": "3.10.9"
  },
  "orig_nbformat": 4,
  "vscode": {
   "interpreter": {
    "hash": "8befaed7f752a58a740e5f08c55a1efd8fcda412d7a2f1c4d828330769dea609"
   }
  }
 },
 "nbformat": 4,
 "nbformat_minor": 2
}
