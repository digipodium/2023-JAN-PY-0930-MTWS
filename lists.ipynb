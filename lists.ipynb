{
 "cells": [
  {
   "cell_type": "code",
   "execution_count": 2,
   "metadata": {},
   "outputs": [],
   "source": [
    "a = []  # empty list\n",
    "b = [1,2,3,5,67,2] # list of integers\n",
    "c = ['apple', 'banana', 'orange'] # list of strings\n",
    "d= [[1,2,3], [4,5,6], [7,8,9]] # list of lists (nested list)\n",
    "e = ['apple', 20, False, 'mango', 50.5, True]"
   ]
  },
  {
   "cell_type": "code",
   "execution_count": 3,
   "metadata": {},
   "outputs": [
    {
     "name": "stdout",
     "output_type": "stream",
     "text": [
      "['t', 'h', 'e', ' ', 'l', 'o', 's', 't', ' ', 'm', 'e', 't', 'a', 'l']\n"
     ]
    }
   ],
   "source": [
    "word = 'the lost metal'\n",
    "chars = list(word)\n",
    "print(chars)"
   ]
  },
  {
   "cell_type": "code",
   "execution_count": 4,
   "metadata": {},
   "outputs": [
    {
     "name": "stdout",
     "output_type": "stream",
     "text": [
      "[1, 2, 3, 1, 2, 3, 1, 2, 3, 1, 2, 3, 1, 2, 3]\n"
     ]
    }
   ],
   "source": [
    "f = [1,2,3] * 5 # repeat list 5 times\n",
    "print(f)"
   ]
  },
  {
   "cell_type": "code",
   "execution_count": 8,
   "metadata": {},
   "outputs": [],
   "source": [
    "name = input(\"enter a name:\")\n",
    "a.append(name)"
   ]
  },
  {
   "cell_type": "code",
   "execution_count": 9,
   "metadata": {},
   "outputs": [
    {
     "data": {
      "text/plain": [
       "15"
      ]
     },
     "execution_count": 9,
     "metadata": {},
     "output_type": "execute_result"
    }
   ],
   "source": [
    "movies = ['Polar','Action Hero','Glass Onion', 'Mission Majnu',\n",
    "          'Enola Holmes', 'Mission Impossible', 'The Old Guard',\n",
    "          'Spiderman','RRR', 'Thunivu','Broken Hearts','Interstellar',\n",
    "          'The Dark Knight', 'The Dark Knight Rises', 'The Prestige',\n",
    "          ]\n",
    "len(movies)"
   ]
  },
  {
   "cell_type": "code",
   "execution_count": 13,
   "metadata": {},
   "outputs": [
    {
     "name": "stdout",
     "output_type": "stream",
     "text": [
      "The Old Guard\n",
      "The Prestige\n"
     ]
    }
   ],
   "source": [
    "print(movies[6])\n",
    "print(movies[-1])"
   ]
  },
  {
   "cell_type": "code",
   "execution_count": 15,
   "metadata": {},
   "outputs": [
    {
     "name": "stdout",
     "output_type": "stream",
     "text": [
      "['Polar', 'Action Hero', 'Glass Onion', 'Mission Majnu', 'Babubali', 'Mission Impossible', 'The Old Guard', 'Spiderman', 'RRR', 'Thunivu', 'Broken Hearts', 'Interstellar', 'The Dark Knight', 'The Dark Knight Rises', 'The Prestige']\n"
     ]
    }
   ],
   "source": [
    "movies[4] = 'Babubali'\n",
    "print(movies)"
   ]
  },
  {
   "cell_type": "code",
   "execution_count": 16,
   "metadata": {},
   "outputs": [
    {
     "name": "stdout",
     "output_type": "stream",
     "text": [
      "['Polar', 'Action Hero', 'Glass Onion', 'Mission Majnu', 'Babubali']\n",
      "['Broken Hearts', 'Interstellar', 'The Dark Knight', 'The Dark Knight Rises', 'The Prestige']\n",
      "['Mission Majnu', 'Babubali', 'Mission Impossible', 'The Old Guard', 'Spiderman', 'RRR', 'Thunivu', 'Broken Hearts', 'Interstellar']\n",
      "['The Prestige', 'The Dark Knight Rises', 'The Dark Knight', 'Interstellar', 'Broken Hearts', 'Thunivu', 'RRR', 'Spiderman', 'The Old Guard', 'Mission Impossible', 'Babubali', 'Mission Majnu', 'Glass Onion', 'Action Hero', 'Polar']\n",
      "['Polar', 'Glass Onion', 'Babubali', 'The Old Guard', 'RRR', 'Broken Hearts', 'The Dark Knight', 'The Prestige']\n",
      "['Polar', 'Mission Majnu', 'The Old Guard', 'Thunivu', 'The Dark Knight']\n"
     ]
    }
   ],
   "source": [
    "# first 5 movies\n",
    "print(movies[:5])\n",
    "# last 5 movies\n",
    "print(movies[-5:])\n",
    "# all movies except first 3 and last 3\n",
    "print(movies[3:-3])\n",
    "# all movies but in reverse order\n",
    "print(movies[::-1])\n",
    "# only even indexed movies\n",
    "print(movies[::2])\n",
    "# every 3rd index movie\n",
    "print(movies[::3])"
   ]
  },
  {
   "cell_type": "code",
   "execution_count": null,
   "metadata": {},
   "outputs": [],
   "source": []
  }
 ],
 "metadata": {
  "kernelspec": {
   "display_name": "base",
   "language": "python",
   "name": "python3"
  },
  "language_info": {
   "codemirror_mode": {
    "name": "ipython",
    "version": 3
   },
   "file_extension": ".py",
   "mimetype": "text/x-python",
   "name": "python",
   "nbconvert_exporter": "python",
   "pygments_lexer": "ipython3",
   "version": "3.10.9"
  },
  "orig_nbformat": 4,
  "vscode": {
   "interpreter": {
    "hash": "8befaed7f752a58a740e5f08c55a1efd8fcda412d7a2f1c4d828330769dea609"
   }
  }
 },
 "nbformat": 4,
 "nbformat_minor": 2
}
