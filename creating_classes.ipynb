{
 "cells": [
  {
   "cell_type": "code",
   "execution_count": null,
   "metadata": {},
   "outputs": [],
   "source": [
    "names = ['John', 'Bob', 'Mosh', 'Sarah', 'Mary']"
   ]
  },
  {
   "cell_type": "code",
   "execution_count": 4,
   "metadata": {},
   "outputs": [],
   "source": [
    "students = [\n",
    "    {'name': 'John', 'college': 'Sky high', 'qualification': 'Bachelors'},\n",
    "    {'name': 'Bob', 'college': 'Sky high', 'qualification': 'Masters'},\n",
    "    {'name': 'Mosh', 'college': 'Sky high', 'qualification': 'Bachelors'},\n",
    "    {'name': 'Sarah', 'college': 'Sky high', 'qualification': 'Bachelors'},\n",
    "]"
   ]
  },
  {
   "cell_type": "code",
   "execution_count": 20,
   "metadata": {},
   "outputs": [],
   "source": [
    "class Student:\n",
    "    def __init__(self, name, college, qualification):\n",
    "        self.name = name\n",
    "        self.college = college\n",
    "        self.qualification = qualification\n",
    "    \n",
    "    def __repr__(self):\n",
    "        return self.name"
   ]
  },
  {
   "cell_type": "code",
   "execution_count": 21,
   "metadata": {},
   "outputs": [],
   "source": [
    "stdObjs = [\n",
    "    Student('Rohan', 'Sky high', 'Bachelors'),\n",
    "    Student('Rahul', 'Sky high', 'Masters'),\n",
    "    Student('Raj', 'Sky high', 'Bachelors'),\n",
    "    Student('Ravi', 'Sky high', 'Bachelors'),\n",
    "]"
   ]
  },
  {
   "cell_type": "code",
   "execution_count": 22,
   "metadata": {},
   "outputs": [
    {
     "data": {
      "text/plain": [
       "[Rohan, Rahul, Raj, Ravi]"
      ]
     },
     "execution_count": 22,
     "metadata": {},
     "output_type": "execute_result"
    }
   ],
   "source": [
    "stdObjs"
   ]
  },
  {
   "cell_type": "code",
   "execution_count": 28,
   "metadata": {},
   "outputs": [],
   "source": [
    "class Triangle:\n",
    "    def __init__(self, b=0, h=0):\n",
    "        self.base = b\n",
    "        self.height = h\n",
    "\n",
    "    def area(self):\n",
    "        return self.base * self.height / 2\n",
    "    \n",
    "    def __repr__(self):\n",
    "        return f'Triangle({self.area()})'\n"
   ]
  },
  {
   "cell_type": "code",
   "execution_count": 32,
   "metadata": {},
   "outputs": [
    {
     "data": {
      "text/plain": [
       "[Triangle(30.0), Triangle(25.0), Triangle(60.0), Triangle(75.0)]"
      ]
     },
     "execution_count": 32,
     "metadata": {},
     "output_type": "execute_result"
    }
   ],
   "source": [
    "data = [Triangle(12,5), Triangle(10,5), Triangle(8,15), Triangle(6,25)]\n",
    "data\n"
   ]
  },
  {
   "cell_type": "code",
   "execution_count": 37,
   "metadata": {},
   "outputs": [],
   "source": [
    "import os\n",
    "class Reader:\n",
    "    \"\"\"Reads a file and returns the content\"\"\"\n",
    "    def __init__(self, path):\n",
    "        if not os.path.exists(path):\n",
    "            raise Exception('File does not exist')\n",
    "        self.path = path\n",
    "        self.content = self.read()\n",
    "\n",
    "    def read(self):\n",
    "        with open(self.path, 'r') as f:\n",
    "            return f.read()\n",
    "        \n",
    "    def count_words(self):\n",
    "        return len(self.content.split())\n",
    "    \n",
    "    def count_chars(self):\n",
    "        return len(self.content)\n",
    "    \n",
    "    def __str__(self):\n",
    "        return self.content"
   ]
  },
  {
   "cell_type": "code",
   "execution_count": 44,
   "metadata": {},
   "outputs": [],
   "source": [
    "r1 = Reader('nested.py')"
   ]
  },
  {
   "cell_type": "code",
   "execution_count": 45,
   "metadata": {},
   "outputs": [
    {
     "name": "stdout",
     "output_type": "stream",
     "text": [
      "from turtle import *\n",
      "\n",
      "speed('fastest')\n",
      "pencolor('red')\n",
      "fillcolor('yellow')\n",
      "for i in range(6):\n",
      "    fd(100)\n",
      "    for i in range(6):\n",
      "        fd(50)\n",
      "        begin_fill()\n",
      "        for i in range(6):\n",
      "            fd(50)\n",
      "            rt(60)\n",
      "        end_fill()\n",
      "        lt(60)\n",
      "    rt(60)\n",
      "\n",
      "hideturtle()\n",
      "mainloop()\n"
     ]
    }
   ],
   "source": [
    "print(r1.content)"
   ]
  },
  {
   "cell_type": "code",
   "execution_count": 46,
   "metadata": {},
   "outputs": [
    {
     "name": "stdout",
     "output_type": "stream",
     "text": [
      "29\n",
      "299\n"
     ]
    }
   ],
   "source": [
    "print(r1.count_words())\n",
    "print(r1.count_chars())"
   ]
  },
  {
   "attachments": {},
   "cell_type": "markdown",
   "metadata": {},
   "source": [
    "inheritance"
   ]
  },
  {
   "cell_type": "code",
   "execution_count": 1,
   "metadata": {},
   "outputs": [],
   "source": [
    "class User:\n",
    "    def __init__(self, name, age=21, gender='female'):\n",
    "        self.name = name\n",
    "        self.age = age\n",
    "        self.gender = gender\n",
    "\n",
    "    def __repr__(self):\n",
    "        return self.name"
   ]
  },
  {
   "cell_type": "code",
   "execution_count": 2,
   "metadata": {},
   "outputs": [
    {
     "data": {
      "text/plain": [
       "Shahid"
      ]
     },
     "execution_count": 2,
     "metadata": {},
     "output_type": "execute_result"
    }
   ],
   "source": [
    "u1 = User('Shahid', 23, 'male')\n",
    "u1"
   ]
  },
  {
   "cell_type": "code",
   "execution_count": 9,
   "metadata": {},
   "outputs": [],
   "source": [
    "class Student(User):\n",
    "    def __init__(self, nm, college, klass, rollno, age=21, gdr='female'):\n",
    "        super().__init__(nm, age, gdr)\n",
    "        self.college = college\n",
    "        self.klass = klass\n",
    "        self.rollno = rollno\n",
    "\n",
    "    def info(self):\n",
    "        print('Student details')\n",
    "        print('Name:', self.name)\n",
    "        print('Age:', self.age)\n",
    "        print('College:', self.college)\n",
    "        print('Class:', self.klass)\n",
    "        print('Roll no:', self.rollno)\n",
    "        print('***'*10)\n"
   ]
  },
  {
   "cell_type": "code",
   "execution_count": 10,
   "metadata": {},
   "outputs": [
    {
     "data": {
      "text/plain": [
       "Sagar"
      ]
     },
     "execution_count": 10,
     "metadata": {},
     "output_type": "execute_result"
    }
   ],
   "source": [
    "s1 = Student('Sagar', 'DDU', 'Msc', '391200', age=25, gdr='male')\n",
    "s1"
   ]
  },
  {
   "cell_type": "code",
   "execution_count": 11,
   "metadata": {},
   "outputs": [
    {
     "name": "stdout",
     "output_type": "stream",
     "text": [
      "Student details\n",
      "Name: Sagar\n",
      "Age: 25\n",
      "College: DDU\n",
      "Class: Msc\n",
      "Roll no: 391200\n",
      "******************************\n"
     ]
    }
   ],
   "source": [
    "s1.info()"
   ]
  },
  {
   "cell_type": "code",
   "execution_count": 15,
   "metadata": {},
   "outputs": [],
   "source": [
    "x = [1,2,3,4,5]\n",
    "y = [10,20,30,40,50]"
   ]
  },
  {
   "cell_type": "code",
   "execution_count": 25,
   "metadata": {},
   "outputs": [],
   "source": [
    "class MyList(list):\n",
    "    def __mul__(self, other):\n",
    "        output = []\n",
    "        for i,j in zip(self, other):\n",
    "            output.append(i*j)\n",
    "        return output\n",
    "\n",
    "    def sum(self):\n",
    "        return sum(self)\n",
    "    \n",
    "    def mean(self):\n",
    "        return sum(self)/len(self)"
   ]
  },
  {
   "cell_type": "code",
   "execution_count": 26,
   "metadata": {},
   "outputs": [
    {
     "data": {
      "text/plain": [
       "[10, 40, 90, 160, 250]"
      ]
     },
     "execution_count": 26,
     "metadata": {},
     "output_type": "execute_result"
    }
   ],
   "source": [
    "x = MyList([1,2,3,4,5])\n",
    "y = MyList([10,20,30,40,50])\n",
    "x * y"
   ]
  },
  {
   "cell_type": "code",
   "execution_count": 27,
   "metadata": {},
   "outputs": [
    {
     "data": {
      "text/plain": [
       "25"
      ]
     },
     "execution_count": 27,
     "metadata": {},
     "output_type": "execute_result"
    }
   ],
   "source": [
    "x.append(10)\n",
    "x.sum()"
   ]
  },
  {
   "cell_type": "code",
   "execution_count": null,
   "metadata": {},
   "outputs": [],
   "source": []
  }
 ],
 "metadata": {
  "kernelspec": {
   "display_name": "base",
   "language": "python",
   "name": "python3"
  },
  "language_info": {
   "codemirror_mode": {
    "name": "ipython",
    "version": 3
   },
   "file_extension": ".py",
   "mimetype": "text/x-python",
   "name": "python",
   "nbconvert_exporter": "python",
   "pygments_lexer": "ipython3",
   "version": "3.10.9"
  },
  "orig_nbformat": 4
 },
 "nbformat": 4,
 "nbformat_minor": 2
}
