{
 "cells": [
  {
   "attachments": {},
   "cell_type": "markdown",
   "metadata": {},
   "source": [
    "# libraries or modules\n",
    "- `import lib_name`\n",
    "\n",
    "- `import lib_name as alias`\n",
    "    - ```import random as rd```\n",
    "\n",
    "- `from lib_name import fun1, fun2, ...`\n",
    "    - ```from random import randint, choice```\n",
    "\n",
    "- `from lib_name import *`\n",
    "    - ```from random import *```"
   ]
  },
  {
   "cell_type": "code",
   "execution_count": 1,
   "metadata": {},
   "outputs": [],
   "source": [
    "import math"
   ]
  },
  {
   "cell_type": "code",
   "execution_count": 10,
   "metadata": {},
   "outputs": [
    {
     "name": "stdout",
     "output_type": "stream",
     "text": [
      "3.605551275463989\n",
      "1307674368000\n",
      "2.0\n",
      "6.643856189774725\n",
      "3.141592653589793\n",
      "2.718281828459045\n",
      "6\n",
      "72\n"
     ]
    }
   ],
   "source": [
    "print(math.sqrt(13))\n",
    "print(math.factorial(15))\n",
    "print(math.log(100, 10))\n",
    "print(math.log(100, 2))\n",
    "print(math.pi)\n",
    "print(math.e)\n",
    "print(math.gcd(12, 18, 24))\n",
    "print(math.lcm(12, 18, 24))"
   ]
  },
  {
   "cell_type": "code",
   "execution_count": 11,
   "metadata": {},
   "outputs": [],
   "source": [
    "from random import random, randint, choice, shuffle"
   ]
  },
  {
   "cell_type": "code",
   "execution_count": 46,
   "metadata": {},
   "outputs": [
    {
     "name": "stdout",
     "output_type": "stream",
     "text": [
      "get a random value between 0 and 1: 0.6416780858858134\n",
      "get a random integer between 50 and 100: 53\n",
      "select a random item Jill\n",
      "shuffle a list ['Jack', 'Jill', 'Jamie', 'John', 'Jane']\n"
     ]
    }
   ],
   "source": [
    "print('get a random value between 0 and 1:', random())\n",
    "print('get a random integer between 50 and 100:', randint(50, 100))\n",
    "print('select a random item', choice(['John', 'Jane', 'Jack', 'Jill','Jamie']))\n",
    "names = ['John', 'Jane', 'Jack', 'Jill','Jamie']\n",
    "shuffle(names)\n",
    "print('shuffle a list', names)"
   ]
  },
  {
   "cell_type": "code",
   "execution_count": 47,
   "metadata": {},
   "outputs": [],
   "source": [
    "from datetime import datetime as dt"
   ]
  },
  {
   "cell_type": "code",
   "execution_count": 53,
   "metadata": {},
   "outputs": [
    {
     "name": "stdout",
     "output_type": "stream",
     "text": [
      "current time 2023-03-11 10:19:42.104339\n",
      "current date 2023-03-11\n",
      "current time 10:19:42.104339\n",
      "timestamp 1678510182.104339\n",
      "year 2023\n",
      "month 3\n",
      "day 11\n"
     ]
    }
   ],
   "source": [
    "print('current time', dt.now())\n",
    "print('current date', dt.now().date())\n",
    "print('current time', dt.now().time())\n",
    "print('timestamp', dt.now().timestamp())\n",
    "print('year', dt.now().year)\n",
    "print('month', dt.now().month)\n",
    "print('day', dt.now().day)"
   ]
  },
  {
   "cell_type": "code",
   "execution_count": 63,
   "metadata": {},
   "outputs": [
    {
     "name": "stdout",
     "output_type": "stream",
     "text": [
      "formatted date 11/03/2023\n"
     ]
    }
   ],
   "source": [
    "date = dt.strftime(dt.now(), '%d/%m/%Y')\n",
    "print('formatted date', date)"
   ]
  },
  {
   "cell_type": "code",
   "execution_count": 64,
   "metadata": {},
   "outputs": [],
   "source": [
    "import os"
   ]
  },
  {
   "cell_type": "code",
   "execution_count": 67,
   "metadata": {},
   "outputs": [
    {
     "name": "stdout",
     "output_type": "stream",
     "text": [
      "current folder c:\\Users\\ZAID\\Documents\\coding\\2023 JAN PY 0930 MTWS\n"
     ]
    }
   ],
   "source": [
    "print('current folder',os.getcwd()) # get current working directory"
   ]
  },
  {
   "cell_type": "code",
   "execution_count": 68,
   "metadata": {},
   "outputs": [
    {
     "name": "stdout",
     "output_type": "stream",
     "text": [
      "['.git', 'dictionary.ipynb', 'func.ipynb', 'func2.ipynb', 'game1.py', 'hello.py', 'images', 'level1.ipynb', 'libraries.ipynb', 'lists.ipynb', 'loops.ipynb', 'music', 'nested.py', 'sounds', 'strings.ipynb', 't1.py', 't2.py', 't3.py', 'tuples.ipynb']\n"
     ]
    }
   ],
   "source": [
    "files = os.listdir() # get all files in the current folder\n",
    "print(files) "
   ]
  },
  {
   "cell_type": "code",
   "execution_count": 72,
   "metadata": {},
   "outputs": [
    {
     "name": "stdout",
     "output_type": "stream",
     "text": [
      "['855_1_caption_fixed.docx', 'Adobe', 'analytics_app_1', 'analytic_dashboard', 'android-basics-kotlin-lemonade-app-main', 'Arduino', 'ArduinoData', \"Assassin's Creed Odyssey\", 'Audacity', 'aug_bill.pdf', 'Avalanche Studios', 'Battlefield 2042', 'Battlefield V', 'BioWare', 'Blackmagic Design', 'blah blah blah', 'Call of Duty', 'certificate_template_x_sms.pdf', 'chapter_1', 'chapter_1_codes.zip', 'chapter_3.docx', 'chapter_4.docx', 'coastline.txt', 'coding', 'Commandos 3 - HD Remaster', 'Credit Card Fraud Detection.docx', 'Custom Office Templates', 'DataBase Classes', 'demofolder', 'demo_website', 'demo_website_2', 'desktop.ini', 'detecting_depression_final.ipynb', 'digi ninja.docx', 'django_blog', 'Django_Website', 'Endless Space 2', 'Epic Games', 'FIFA 22', 'games_code', 'GitHub', 'Humankind', 'Immortals Fenyx Rising', 'impact of covid on unemployment', 'KoeiTecmo', 'learning_html', 'lmms', 'm.drawio', 'MAGIX', \"Marvel's Spider-Man Remastered\", 'Mirrors Edge Catalyst', 'My Data Sources', 'My Games', 'My Music', 'My Pictures', 'My Videos', 'mysqlsampledatabase.sql', 'my_showcase', 'NStW', 'numpy_matplotlib_cookbook.pdf', 'o.drawio', 'office_docs', 'OneNote Notebooks', 'Overwatch', 'papp', 'parking_space_counter.docx', 'PowerToys', 'presentations', 'Processing', 'ProfileCache', 'RapidMiner', 'Rockstar Games', 'SKIDROW', 'Slide Master', 'sms', 'Sound recordings', 'Spelunky2', 'Synopsis Template.docx', 'test1', 'The Crew', 'Unreal Projects', 'VIRTUAL GALLERY DEMO', 'WindowsPowerShell', 'X-Morph Defense']\n",
      "84\n"
     ]
    }
   ],
   "source": [
    "files = os.listdir(r'C:\\users\\Zaid\\Documents')\n",
    "print(files)\n",
    "print(len(files))"
   ]
  },
  {
   "cell_type": "code",
   "execution_count": 76,
   "metadata": {},
   "outputs": [
    {
     "name": "stdout",
     "output_type": "stream",
     "text": [
      "=> C:/users/ZAID/Videos\n",
      "📁 [\"Assassin's Creed  Odyssey\", 'Base Profile', 'Battlefield 2042', 'Battlefield V', 'Call of Duty  Modern Warfare 2 (2022)', 'Captures', 'Content', 'Control', 'Director', 'EA Desktop', 'Everything', 'Eximiusseizethefrontline', 'FIFA 22', 'Killer Instinct', 'Legends of Runeterra', \"Marvel's Spider-Man Remastered\", 'Microsoft Teams', 'Microsoft Whiteboard', 'Microsoft Windows Get Help', 'Movavi Video Editor', 'movies', 'Nahimic Service', 'NARUTO SHIPPUDEN  Ultimate Ninja STORM 4', 'New folder', 'Notepad', 'Overwatch 2', 'Paint.NET', 'Rabbidscoding', 'Radeon ReLive', 'Rising Storm 2  Vietnam', 'Roller Champions', 'Shatterline', 'Slay The Spire', 'Snipping Tool', 'sophomore', \"Tom Clancy's Ghost Recon  Wildlands\", 'u4.exe', 'Valorant', 'video_creator', 'Warhaven-Win64-Shipping.exe', 'Wingdk']\n",
      "📄 ['2022-05-13 18-24-43.mkv', '2022-06-01 12-25-18.mkv', '2022-06-01 14-55-01.mkv', '2022-06-01 14-56-31.mkv', '2022-06-01 14-58-07.mkv', '2022-06-01 15-04-22.mkv', '2023-01-11 20-14-12.mkv', '2023-01-11 20-15-56.mkv', '2023-01-11 20-17-27.mkv', 'desktop.ini', 'elantris_prologue.wav.mp4', 'example of adding a food.mp4', 'lightning-in-the-night-sky.mp4', 'loop1.mp4', 'mantissa.xyz_loop_045.mp4', 'mantissa.xyz_loop_047.mp4', 'mantissa.xyz_loop_064.mp4', 'mantissa.xyz_loop_099.mp4', 'more_002.mp4', 'musicband.mkv', 'New Batches.mp4', 'Resident Evil 4 Demo clip.mp4', 'Slide Master.mp4', 'test_solutions.mp4', 'valoace.mp4', 'WRMMM (loop).mp4']\n",
      "---------------\n",
      "=> C:/users/ZAID/Videos\\Assassin's Creed  Odyssey\n",
      "📁 []\n",
      "📄 [\"Assassin's Creed  Odyssey 2022.09.18 - 00.40.12.02.DVR.mp4\"]\n",
      "---------------\n",
      "=> C:/users/ZAID/Videos\\Base Profile\n",
      "📁 []\n",
      "📄 []\n",
      "---------------\n",
      "=> C:/users/ZAID/Videos\\Battlefield 2042\n",
      "📁 []\n",
      "📄 ['Battlefield 2042 2023.02.17 - 01.53.07.04.DVR.mp4']\n",
      "---------------\n",
      "=> C:/users/ZAID/Videos\\Battlefield V\n",
      "📁 []\n",
      "📄 []\n",
      "---------------\n",
      "=> C:/users/ZAID/Videos\\Call of Duty  Modern Warfare 2 (2022)\n",
      "📁 []\n",
      "📄 []\n",
      "---------------\n",
      "=> C:/users/ZAID/Videos\\Captures\n",
      "📁 []\n",
      "📄 ['Assassin’s Creed® Odyssey 2022-08-18 01-04-30.mp4', 'Assassin’s Creed® Odyssey 2022-08-21 02-39-32.mp4', 'Battletoads 05-10-2022 15_21_02.png', 'Battletoads 05-10-2022 15_28_59.png', 'Battletoads 05-10-2022 15_35_26.png', 'Battletoads 07-10-2022 17_51_05.png', 'Battletoads 2022-10-05 15-24-24.mp4', 'Battletoads 2022-10-05 15-32-50.mp4', 'desktop.ini', 'FIFA 22 27-10-2022 02_32_21.png', \"Marvel's Guardians of the Galaxy 05-09-2022 00_00_29.png\", \"Marvel's Spider-Man Remastered v1.812.1.0 05-10-2022 14_45_41.png\", 'overconfidence killed them.mp4', 'Resident Evil 4 Chainsaw Demo 2023-03-10 19-43-59.mp4', 'Shatterline 06-10-2022 00_44_09.png', 'Shatterline 06-10-2022 00_44_44.png', 'STAR WARS Jedi_ Fallen Order™ 01-09-2022 14_35_29.png', 'STAR WARS Jedi_ Fallen Order™ 03-09-2022 00_26_45.png', \"Teenage Mutant Ninja Turtles_ Shredder's Revenge 05-10-2022 13_49_04.png\", \"Teenage Mutant Ninja Turtles_ Shredder's Revenge 05-10-2022 13_49_05.png\", \"Teenage Mutant Ninja Turtles_ Shredder's Revenge 05-10-2022 13_57_26.png\", 'VALORANT   19-06-2022 22_39_18.png', 'VALORANT   2022-07-29 00-24-01.mp4', 'VALORANT   2022-09-07 00-49-44.mp4', 'Yakuza_ Like a Dragon 12-08-2022 01_56_45.png']\n",
      "---------------\n",
      "=> C:/users/ZAID/Videos\\Content\n",
      "📁 []\n",
      "📄 []\n",
      "---------------\n",
      "=> C:/users/ZAID/Videos\\Control\n",
      "📁 []\n",
      "📄 []\n",
      "---------------\n",
      "=> C:/users/ZAID/Videos\\Director\n",
      "📁 ['Photos']\n",
      "📄 ['ashish_sir.mp4', 'facebook.mp4', 'output.mp4', 'varun.mp4']\n",
      "---------------\n",
      "=> C:/users/ZAID/Videos\\Director\\Photos\n",
      "📁 []\n",
      "📄 ['C0188.MP4', 'DSC01020.jpg', 'DSC01076.jpg', 'DSC01082.jpg', 'DSC01271.jpg', 'DSC01279.jpg', 'FB_IMG_1609330047334.jpg', 'FB_IMG_1609330053191.jpg', 'IMG-20220530-WA0007.jpg', 'IMG-20220530-WA0011.jpg', 'IMG-20220530-WA0028.jpg', 'IMG_20171119_163506.jpg', 'IMG_20171208_134331.jpg', 'IMG_20180905_114825.jpg', 'IMG_20181101_120026.jpg', 'IMG_20181101_120103.jpg', 'IMG_20181101_214214.jpg', 'IMG_20181103_115013.jpg', 'IMG_20181111_112812.jpg', 'IMG_20181217_073029.jpg', 'IMG_20190308_171011.jpg', 'IMG_20191009_174602.jpg', 'IMG_20191110_132141.jpg', 'IMG_20191110_132214_BURST2.jpg', 'IMG_20191110_154058.jpg', 'IMG_20191120_163620.jpg', 'IMG_20200129_150824.jpg', 'IMG_20220315_182246.jpg', 'IMG_20220315_182327.jpg', 'IMG_20220417_115133.jpg', 'IMG_20220509_220602.jpg', 'IMG_20220509_220709.jpg', 'IMG_20220603_152540.jpg', 'IMG_20220603_152544.jpg', 'SAVE_20210628_094512.jpg', 'VID_20190709_124243.mp4', 'VID_20210227_190442.mp4', 'VID_20220417_122424.mp4', '_DSC0356.jpg', '_DSC0361.jpg', '_DSC0365.jpg', '_DSC0371.jpg', '_DSC0376.jpg', '_DSC0379.jpg', '_DSC0385.jpg', '_DSC0407.JPG', '_DSC0614.JPG', '_DSC2364.JPG']\n",
      "---------------\n",
      "=> C:/users/ZAID/Videos\\EA Desktop\n",
      "📁 []\n",
      "📄 []\n",
      "---------------\n",
      "=> C:/users/ZAID/Videos\\Everything\n",
      "📁 []\n",
      "📄 []\n",
      "---------------\n",
      "=> C:/users/ZAID/Videos\\Eximiusseizethefrontline\n",
      "📁 []\n",
      "📄 []\n",
      "---------------\n",
      "=> C:/users/ZAID/Videos\\FIFA 22\n",
      "📁 []\n",
      "📄 []\n",
      "---------------\n",
      "=> C:/users/ZAID/Videos\\Killer Instinct\n",
      "📁 []\n",
      "📄 []\n",
      "---------------\n",
      "=> C:/users/ZAID/Videos\\Legends of Runeterra\n",
      "📁 []\n",
      "📄 []\n",
      "---------------\n",
      "=> C:/users/ZAID/Videos\\Marvel's Spider-Man Remastered\n",
      "📁 []\n",
      "📄 []\n",
      "---------------\n",
      "=> C:/users/ZAID/Videos\\Microsoft Teams\n",
      "📁 []\n",
      "📄 []\n",
      "---------------\n",
      "=> C:/users/ZAID/Videos\\Microsoft Whiteboard\n",
      "📁 []\n",
      "📄 []\n",
      "---------------\n",
      "=> C:/users/ZAID/Videos\\Microsoft Windows Get Help\n",
      "📁 []\n",
      "📄 []\n",
      "---------------\n",
      "=> C:/users/ZAID/Videos\\Movavi Video Editor\n",
      "📁 ['Media Content', 'Preview Files', 'Projects']\n",
      "📄 []\n",
      "---------------\n",
      "=> C:/users/ZAID/Videos\\Movavi Video Editor\\Media Content\n",
      "📁 ['Audio', 'Video']\n",
      "📄 []\n",
      "---------------\n",
      "=> C:/users/ZAID/Videos\\Movavi Video Editor\\Media Content\\Audio\n",
      "📁 []\n",
      "📄 ['Applause.mp3']\n",
      "---------------\n",
      "=> C:/users/ZAID/Videos\\Movavi Video Editor\\Media Content\\Video\n",
      "📁 []\n",
      "📄 ['Bubbles.mov', 'Rainbow_Swirl.mp4', 'Stars.mov', 'Static.mp4', 'Storm.mp4']\n",
      "---------------\n",
      "=> C:/users/ZAID/Videos\\Movavi Video Editor\\Preview Files\n",
      "📁 []\n",
      "📄 ['{11574891-5105-4d74-adbd-84840dd1f6a0}.mov', '{91182c95-48aa-4546-9acb-bfb14a96e1e1}.mov', '{a1a1fe4b-d935-4951-af1e-db9cc1162dbc}.mov', '{dcd75f59-1467-4cd8-a9ff-92c0d343e5b8}.mov', '{f6f1a286-41fa-42e5-9368-e225c4bb7d8b}.mov']\n",
      "---------------\n",
      "=> C:/users/ZAID/Videos\\Movavi Video Editor\\Projects\n",
      "📁 []\n",
      "📄 ['test.mepx']\n",
      "---------------\n",
      "=> C:/users/ZAID/Videos\\movies\n",
      "📁 ['Spider-Man.No.Way.Home.2021.1080p.BluRay.H264.AAC-RARBG', 'The.Batman.2022.2160p.10bit.HDR.DV.WEBRip.6CH.x265.HEVC-PSA']\n",
      "📄 []\n",
      "---------------\n",
      "=> C:/users/ZAID/Videos\\movies\\Spider-Man.No.Way.Home.2021.1080p.BluRay.H264.AAC-RARBG\n",
      "📁 ['Subs']\n",
      "📄 ['Spider-Man.No.Way.Home.2021.1080p.BluRay.H264.AAC-RARBG.mp4']\n",
      "---------------\n",
      "=> C:/users/ZAID/Videos\\movies\\Spider-Man.No.Way.Home.2021.1080p.BluRay.H264.AAC-RARBG\\Subs\n",
      "📁 []\n",
      "📄 ['3_English.srt', '4_English.srt']\n",
      "---------------\n",
      "=> C:/users/ZAID/Videos\\movies\\The.Batman.2022.2160p.10bit.HDR.DV.WEBRip.6CH.x265.HEVC-PSA\n",
      "📁 []\n",
      "📄 ['The.Batman.2022.2160p.10bit.HDR.DV.WEBRip.6CH.x265.HEVC-PSA.mkv']\n",
      "---------------\n",
      "=> C:/users/ZAID/Videos\\Nahimic Service\n",
      "📁 []\n",
      "📄 []\n",
      "---------------\n",
      "=> C:/users/ZAID/Videos\\NARUTO SHIPPUDEN  Ultimate Ninja STORM 4\n",
      "📁 []\n",
      "📄 []\n",
      "---------------\n",
      "=> C:/users/ZAID/Videos\\New folder\n",
      "📁 []\n",
      "📄 ['cosmere-episodes.prproj']\n",
      "---------------\n",
      "=> C:/users/ZAID/Videos\\Notepad\n",
      "📁 []\n",
      "📄 []\n",
      "---------------\n",
      "=> C:/users/ZAID/Videos\\Overwatch 2\n",
      "📁 []\n",
      "📄 []\n",
      "---------------\n",
      "=> C:/users/ZAID/Videos\\Paint.NET\n",
      "📁 []\n",
      "📄 []\n",
      "---------------\n",
      "=> C:/users/ZAID/Videos\\Rabbidscoding\n",
      "📁 []\n",
      "📄 []\n",
      "---------------\n",
      "=> C:/users/ZAID/Videos\\Radeon ReLive\n",
      "📁 []\n",
      "📄 []\n",
      "---------------\n",
      "=> C:/users/ZAID/Videos\\Rising Storm 2  Vietnam\n",
      "📁 []\n",
      "📄 []\n",
      "---------------\n",
      "=> C:/users/ZAID/Videos\\Roller Champions\n",
      "📁 []\n",
      "📄 []\n",
      "---------------\n",
      "=> C:/users/ZAID/Videos\\Shatterline\n",
      "📁 []\n",
      "📄 ['Shatterline 2022.10.22 - 21.47.51.02.DVR.mp4']\n",
      "---------------\n",
      "=> C:/users/ZAID/Videos\\Slay The Spire\n",
      "📁 []\n",
      "📄 []\n",
      "---------------\n",
      "=> C:/users/ZAID/Videos\\Snipping Tool\n",
      "📁 []\n",
      "📄 []\n",
      "---------------\n",
      "=> C:/users/ZAID/Videos\\sophomore\n",
      "📁 []\n",
      "📄 ['1.png']\n",
      "---------------\n",
      "=> C:/users/ZAID/Videos\\Tom Clancy's Ghost Recon  Wildlands\n",
      "📁 []\n",
      "📄 [\"Tom Clancy's Ghost Recon  Wildlands 2023.02.04 - 18.57.50.02.DVR.mp4\"]\n",
      "---------------\n",
      "=> C:/users/ZAID/Videos\\u4.exe\n",
      "📁 []\n",
      "📄 []\n",
      "---------------\n",
      "=> C:/users/ZAID/Videos\\Valorant\n",
      "📁 []\n",
      "📄 ['5 vs 1.mp4', '5v1.mp4', 'ace.mp4', 'ace_2.mp4', 'Valorant 2022.09.22 - 00.06.34.02.DVR.mp4', 'Valorant 2022.10.16 - 23.56.44.02.DVR.mp4', 'Valorant 2022.10.29 - 00.46.13.02.DVR.mp4', 'Valorant 2022.12.07 - 23.32.38.02.DVR.mp4', 'Valorant 2023.01.01 - 00.04.28.02.DVR.mp4', 'Valorant 2023.01.02 - 23.30.08.02.DVR.mp4', 'Valorant 2023.01.02 - 23.52.56.03.DVR.mp4', 'Valorant 2023.01.03 - 00.18.03.04.DVR.mp4', 'Valorant 2023.01.31 - 22.35.54.02.DVR.mp4', 'Valorant 2023.02.08 - 23.22.04.02.DVR.mp4']\n",
      "---------------\n",
      "=> C:/users/ZAID/Videos\\video_creator\n",
      "📁 []\n",
      "📄 ['ending.mp4', 'fleet_intro.mp4', 'likeandsubscibe.mkv', 'wandersail_intro.mp4']\n",
      "---------------\n",
      "=> C:/users/ZAID/Videos\\Warhaven-Win64-Shipping.exe\n",
      "📁 []\n",
      "📄 ['Warhaven-Win64-Shipping.exe 2022.10.13 - 20.48.46.09.DVR.mp4']\n",
      "---------------\n",
      "=> C:/users/ZAID/Videos\\Wingdk\n",
      "📁 []\n",
      "📄 []\n",
      "---------------\n",
      "total files 144\n"
     ]
    }
   ],
   "source": [
    "total_files = 0\n",
    "for path, folders, files in os.walk('C:/users/ZAID/Videos'):\n",
    "    print('=>', path)\n",
    "    print('📁', folders)\n",
    "    print('📄', files)\n",
    "    print('-'*15)\n",
    "    total_files += len(files)\n",
    "print('total files', total_files)"
   ]
  },
  {
   "cell_type": "code",
   "execution_count": 82,
   "metadata": {},
   "outputs": [
    {
     "name": "stdout",
     "output_type": "stream",
     "text": [
      "file exists\n",
      "file size 2142963488 bytes\n",
      "file size 2092737.78125 KB\n",
      "file size 2043.6892395019531 MB\n",
      "file size 1.995790272951126 GB\n"
     ]
    }
   ],
   "source": [
    "file = \"C:/users/ZAID/Videos/Assassin's Creed  Odyssey/Assassin's Creed  Odyssey 2022.09.18 - 00.40.12.02.DVR.mp4\"\n",
    "if os.path.exists(file):\n",
    "    print('file exists')\n",
    "    size = os.path.getsize(file)\n",
    "    print('file size', size, 'bytes')\n",
    "    print('file size', size/1024, 'KB')\n",
    "    print('file size', size/(1024*1024), 'MB')\n",
    "    print('file size', size/(1024*1024*1024), 'GB')\n",
    "\n",
    "else:\n",
    "    print('file does not exist')"
   ]
  },
  {
   "cell_type": "code",
   "execution_count": null,
   "metadata": {},
   "outputs": [],
   "source": []
  }
 ],
 "metadata": {
  "kernelspec": {
   "display_name": "base",
   "language": "python",
   "name": "python3"
  },
  "language_info": {
   "codemirror_mode": {
    "name": "ipython",
    "version": 3
   },
   "file_extension": ".py",
   "mimetype": "text/x-python",
   "name": "python",
   "nbconvert_exporter": "python",
   "pygments_lexer": "ipython3",
   "version": "3.10.9"
  },
  "orig_nbformat": 4
 },
 "nbformat": 4,
 "nbformat_minor": 2
}
